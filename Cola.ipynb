{
  "nbformat": 4,
  "nbformat_minor": 0,
  "metadata": {
    "colab": {
      "provenance": [],
      "authorship_tag": "ABX9TyP2g3EiCCqCSP/ulrS0dRmR",
      "include_colab_link": true
    },
    "kernelspec": {
      "name": "python3",
      "display_name": "Python 3"
    },
    "language_info": {
      "name": "python"
    }
  },
  "cells": [
    {
      "cell_type": "markdown",
      "metadata": {
        "id": "view-in-github",
        "colab_type": "text"
      },
      "source": [
        "<a href=\"https://colab.research.google.com/github/cris-code20/-challengeonecodificador5/blob/main/Cola.ipynb\" target=\"_parent\"><img src=\"https://colab.research.google.com/assets/colab-badge.svg\" alt=\"Open In Colab\"/></a>"
      ]
    },
    {
      "cell_type": "markdown",
      "source": [
        "Cread un crud con python usando colas\n"
      ],
      "metadata": {
        "id": "upfgCPCdP38q"
      }
    },
    {
      "cell_type": "code",
      "source": [
        "from collections import deque\n",
        "\n",
        "queue = deque()\n",
        "\n",
        "# Metodo (Create):\n",
        "def create(item):\n",
        "    queue.append(item)\n",
        "    print(f\"Elemento '{item}' agregado a la cola.\")\n",
        "\n",
        "# Metodo (Read):\n",
        "def read():\n",
        "    if queue:\n",
        "        print(\"Elementos en la cola:\", list(queue))\n",
        "    else:\n",
        "        print(\"La cola está vacía.\")\n",
        "\n",
        "# Metodo (Update):\n",
        "def update(index, new_item):\n",
        "    if 0 <= index < len(queue):\n",
        "        old_item = queue[index]\n",
        "        queue[index] = new_item\n",
        "        print(f\"Elemento '{old_item}' en la posición {index} actualizado a '{new_item}'.\")\n",
        "    else:\n",
        "        print(\"Índice fuera de rango.\")\n",
        "\n",
        "# Metodo (Delete)\n",
        "def delete():\n",
        "    if queue:\n",
        "        removed_item = queue.popleft()\n",
        "        print(f\"Elemento '{removed_item}' eliminado de la cola.\")\n",
        "    else:\n",
        "        print(\"La cola está vacía, no hay elementos para eliminar.\")\n",
        "\n",
        "\n",
        "create(\"Elemento 1\")\n",
        "create(\"Elemento 2\")\n",
        "create(\"Elemento 3\")\n",
        "read()\n",
        "update(1, \"Elemento actualizado\")\n",
        "read()\n",
        "delete()\n",
        "read()"
      ],
      "metadata": {
        "colab": {
          "base_uri": "https://localhost:8080/"
        },
        "id": "01scvLOEP-ye",
        "outputId": "74ac4dd6-de98-4fde-b619-74dd93b750d6"
      },
      "execution_count": 1,
      "outputs": [
        {
          "output_type": "stream",
          "name": "stdout",
          "text": [
            "Elemento 'Elemento 1' agregado a la cola.\n",
            "Elemento 'Elemento 2' agregado a la cola.\n",
            "Elemento 'Elemento 3' agregado a la cola.\n",
            "Elementos en la cola: ['Elemento 1', 'Elemento 2', 'Elemento 3']\n",
            "Elemento 'Elemento 2' en la posición 1 actualizado a 'Elemento actualizado'.\n",
            "Elementos en la cola: ['Elemento 1', 'Elemento actualizado', 'Elemento 3']\n",
            "Elemento 'Elemento 1' eliminado de la cola.\n",
            "Elementos en la cola: ['Elemento actualizado', 'Elemento 3']\n"
          ]
        }
      ]
    }
  ]
}