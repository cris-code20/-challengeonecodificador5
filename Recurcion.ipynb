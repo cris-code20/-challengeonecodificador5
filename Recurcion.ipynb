{
  "nbformat": 4,
  "nbformat_minor": 0,
  "metadata": {
    "colab": {
      "provenance": [],
      "authorship_tag": "ABX9TyOYArVKKE2TqWsChWXxmPFL",
      "include_colab_link": true
    },
    "kernelspec": {
      "name": "python3",
      "display_name": "Python 3"
    },
    "language_info": {
      "name": "python"
    }
  },
  "cells": [
    {
      "cell_type": "markdown",
      "metadata": {
        "id": "view-in-github",
        "colab_type": "text"
      },
      "source": [
        "<a href=\"https://colab.research.google.com/github/cris-code20/-challengeonecodificador5/blob/main/Recurcion.ipynb\" target=\"_parent\"><img src=\"https://colab.research.google.com/assets/colab-badge.svg\" alt=\"Open In Colab\"/></a>"
      ]
    },
    {
      "cell_type": "markdown",
      "source": [
        "# 1. Factorial recursivo"
      ],
      "metadata": {
        "id": "Fu3oU_-mNk05"
      }
    },
    {
      "cell_type": "code",
      "source": [
        "def factorial(n):\n",
        "    if n == 0:\n",
        "        return 1\n",
        "    else:\n",
        "        return n * factorial(n - 1)\n",
        "\n",
        "print(factorial(3))"
      ],
      "metadata": {
        "colab": {
          "base_uri": "https://localhost:8080/"
        },
        "id": "las0dicYNjl5",
        "outputId": "b8447673-1024-44ae-a54b-613ea3c197da"
      },
      "execution_count": 3,
      "outputs": [
        {
          "output_type": "stream",
          "name": "stdout",
          "text": [
            "6\n"
          ]
        }
      ]
    },
    {
      "cell_type": "markdown",
      "source": [
        "# Suma de números naturales"
      ],
      "metadata": {
        "id": "hsxOfu2gN84D"
      }
    },
    {
      "cell_type": "code",
      "source": [
        "def suma_numeros(n):\n",
        "    if n == 0:\n",
        "        return 0\n",
        "    else:\n",
        "        return n + suma_numeros(n - 1)\n",
        "\n",
        "print(suma_numeros(10))\n",
        "print(suma_numeros(5))\n",
        "print(suma_numeros(1))"
      ],
      "metadata": {
        "colab": {
          "base_uri": "https://localhost:8080/"
        },
        "id": "bRmjLPWaN_O2",
        "outputId": "3a245e20-27b8-4dd9-d2d1-5611292357e5"
      },
      "execution_count": 6,
      "outputs": [
        {
          "output_type": "stream",
          "name": "stdout",
          "text": [
            "55\n",
            "15\n",
            "1\n"
          ]
        }
      ]
    },
    {
      "cell_type": "markdown",
      "source": [
        "# 3. Fibonacci recursivo"
      ],
      "metadata": {
        "id": "2ROE3t7zOSKX"
      }
    },
    {
      "cell_type": "code",
      "source": [
        "def fibonacci(n):\n",
        "    if n <= 1:\n",
        "        return n\n",
        "    else:\n",
        "        return fibonacci(n - 1) + fibonacci(n - 2)\n",
        "\n",
        "print(fibonacci(10))"
      ],
      "metadata": {
        "colab": {
          "base_uri": "https://localhost:8080/"
        },
        "id": "2ZX73a1uOTvW",
        "outputId": "8301be05-d554-40b9-bff3-32718243bbe3"
      },
      "execution_count": 15,
      "outputs": [
        {
          "output_type": "stream",
          "name": "stdout",
          "text": [
            "55\n"
          ]
        }
      ]
    }
  ]
}